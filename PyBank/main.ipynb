{
 "cells": [
  {
   "cell_type": "code",
   "execution_count": 103,
   "id": "7712b1f7-433d-4823-934d-3ab97d332690",
   "metadata": {},
   "outputs": [],
   "source": [
    "from pathlib import Path\n",
    "import csv"
   ]
  },
  {
   "cell_type": "code",
   "execution_count": 104,
   "id": "18a3eea4-585f-4c39-be6d-dbe9294f4e1f",
   "metadata": {},
   "outputs": [],
   "source": [
    "csvpath = Path('./budget_data.csv')"
   ]
  },
  {
   "cell_type": "code",
   "execution_count": 105,
   "id": "f95ac17e-60bb-42b2-bd25-824f60b9046e",
   "metadata": {},
   "outputs": [
    {
     "name": "stdout",
     "output_type": "stream",
     "text": [
      "The total profit for the period is: $ 38382578\n"
     ]
    }
   ],
   "source": [
    "profits = []\n",
    "\n",
    "line_num = 0\n",
    "\n",
    "with open(csvpath, 'r') as csvfile:\n",
    "  \n",
    "    csvreader = csv.reader(csvfile, delimiter=',')\n",
    "    \n",
    "    csv_header = next(csvreader)\n",
    "    line_num += 1\n",
    "    \n",
    "    for row in csvreader:\n",
    "        profit = int(row[1])\n",
    "        profits.append(profit)\n",
    " \n",
    "total_profit = 0\n",
    "\n",
    "for profit in profits:\n",
    "    total_profit += profit    \n",
    "  \n",
    "\n",
    "print('The total profit for the period is: $',total_profit)"
   ]
  },
  {
   "cell_type": "code",
   "execution_count": 106,
   "id": "c487b668-9ce6-44e4-8f97-b0f3c2554ba6",
   "metadata": {},
   "outputs": [
    {
     "name": "stdout",
     "output_type": "stream",
     "text": [
      "Number of months in the Budget Data file is: 86\n"
     ]
    }
   ],
   "source": [
    "# Total number of months included in the data set\n",
    "\n",
    "row_count  = -1\n",
    "\n",
    "for row in open('budget_data.csv'):\n",
    "    row_count += 1\n",
    "\n",
    "print('Number of months in the Budget Data file is:', row_count)"
   ]
  },
  {
   "cell_type": "code",
   "execution_count": 107,
   "id": "f2d67ab6-f3c0-45ad-aa53-d61c7a30e380",
   "metadata": {},
   "outputs": [
    {
     "name": "stdout",
     "output_type": "stream",
     "text": [
      "The average of changes on profit and losses for the data period is: -2288.2\n"
     ]
    }
   ],
   "source": [
    "# The average of the changes in Profit/Losses over the entire period   \n",
    "\n",
    "total_month = 0\n",
    "net_profit_loss = 0\n",
    "greatest_decrease =['', 999999]\n",
    "greatest_increase = ['', 0]\n",
    "total_revenue = 0\n",
    "\n",
    "with open(csvpath) as budget_data:\n",
    "    csv_reader = csv.reader(budget_data)\n",
    "    csv_header = next(csv_reader)\n",
    "    first_row = next(csv_reader)\n",
    "    total_month = total_month +1\n",
    "    net_profit_loss = int(net_profit_loss) + int(first_row[1])\n",
    "    previous_net = int(first_row[1])\n",
    "    \n",
    "    for row in csv_reader:\n",
    "        total_month = total_month + 1\n",
    "        net_profit_loss + net_profit_loss + int(row[1])\n",
    "        net_change = int(row[1]) - previous_net\n",
    "        revenue_change = net_profit_loss + int(row[1])\n",
    "        \n",
    "        if net_profit_loss >= greatest_increase[1]:\n",
    "            greatest_increase[0] = row[0]\n",
    "            greatest_increase[1] = net_change\n",
    "            \n",
    "        if net_profit_loss <= greatest_decrease[1]:\n",
    "            greatest_decrease[0] = row[0]\n",
    "            greatest_decrease[1] = net_change\n",
    "            \n",
    "total_net_change = net_change \n",
    "\n",
    "row_count  = -1\n",
    "\n",
    "for row in open(\"budget_data.csv\"):\n",
    "    row_count += 1\n",
    "\n",
    "avg = round(total_net_change/(row_count), 2)\n",
    "\n",
    "print('The average of changes on profit and losses for the data period is:', avg)"
   ]
  },
  {
   "cell_type": "code",
   "execution_count": 108,
   "id": "550ce791-4cf8-4c49-9f3a-4a2f596439d4",
   "metadata": {},
   "outputs": [
    {
     "name": "stdout",
     "output_type": "stream",
     "text": [
      "The greatest increase in losses in the dataset is: ['Feb-2010', 116771]\n"
     ]
    }
   ],
   "source": [
    "#The greatest decrease in losses (date and amount) over the entire period\n",
    "\n",
    "print('The greatest increase in losses in the dataset is:',greatest_decrease)"
   ]
  },
  {
   "cell_type": "code",
   "execution_count": 109,
   "id": "1885839e-7377-40bd-b0ba-8d00a7e5283c",
   "metadata": {},
   "outputs": [
    {
     "name": "stdout",
     "output_type": "stream",
     "text": [
      "The greatest decrease in losses in the dataset is: ['Feb-2017', -196785]\n"
     ]
    }
   ],
   "source": [
    "#The greatest decrease in losses (date and amount) over the entire period\n",
    "\n",
    "print('The greatest decrease in losses in the dataset is:', greatest_increase)"
   ]
  },
  {
   "cell_type": "code",
   "execution_count": 110,
   "id": "4c54d7ed-da92-4c95-90bd-1f954390de94",
   "metadata": {},
   "outputs": [
    {
     "name": "stdout",
     "output_type": "stream",
     "text": [
      "Financial Analysis for PyBank Homework\n",
      "--------------------------------------\n",
      "Number of months in the Budget Data file is: 86\n",
      "The average of changes on profit and losses for the data period is: -2288.2\n",
      "The greatest increase in losses in the dataset is: ['Feb-2010', 116771]\n",
      "The greatest decrease in losses in the dataset is: ['Feb-2017', -196785]\n"
     ]
    }
   ],
   "source": [
    "print('Financial Analysis for PyBank Homework')\n",
    "print('--------------------------------------')\n",
    "print('Number of months in the Budget Data file is:', row_count)\n",
    "print('The average of changes on profit and losses for the data period is:', avg)\n",
    "print('The greatest increase in losses in the dataset is:',greatest_decrease)\n",
    "print('The greatest decrease in losses in the dataset is:', greatest_increase)"
   ]
  }
 ],
 "metadata": {
  "kernelspec": {
   "display_name": "Python 3 (ipykernel)",
   "language": "python",
   "name": "python3"
  },
  "language_info": {
   "codemirror_mode": {
    "name": "ipython",
    "version": 3
   },
   "file_extension": ".py",
   "mimetype": "text/x-python",
   "name": "python",
   "nbconvert_exporter": "python",
   "pygments_lexer": "ipython3",
   "version": "3.9.12"
  }
 },
 "nbformat": 4,
 "nbformat_minor": 5
}
